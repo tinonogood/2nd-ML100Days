{
 "cells": [
  {
   "cell_type": "markdown",
   "metadata": {},
   "source": [
    "## [作業重點]\n",
    "使用 Sklearn 中的 Lasso, Ridge 模型，來訓練各種資料集，務必了解送進去模型訓練的**資料型態**為何，也請了解模型中各項參數的意義。\n",
    "\n",
    "機器學習的模型非常多種，但要訓練的資料多半有固定的格式，確保你了解訓練資料的格式為何，這樣在應用新模型時，就能夠最快的上手開始訓練！"
   ]
  },
  {
   "cell_type": "markdown",
   "metadata": {},
   "source": [
    "## 練習時間\n",
    "試著使用 sklearn datasets 的其他資料集 (boston, ...)，來訓練自己的線性迴歸模型，並加上適當的正則話來觀察訓練情形。"
   ]
  },
  {
   "cell_type": "code",
   "execution_count": 5,
   "metadata": {},
   "outputs": [
    {
     "name": "stdout",
     "output_type": "stream",
     "text": [
      "[-0.19144979  0.23626623]\n",
      "[-0.02692861  0.1444005 ]\n",
      "[-0.27371038  0.28219909]\n"
     ]
    }
   ],
   "source": [
    "from sklearn import datasets\n",
    "import matplotlib.pyplot as plt\n",
    "\n",
    "wines = datasets.load_wine()\n",
    "X = wines.data[:, :2]\n",
    "y = wines.target\n",
    "\n",
    "from  sklearn.linear_model import Lasso\n",
    "reg = Lasso(alpha=0.1)\n",
    "reg.fit(X, y)\n",
    "print(reg.coef_)\n",
    "reg = Lasso(alpha=0.2)\n",
    "reg.fit(X, y)\n",
    "print(reg.coef_)\n",
    "reg = Lasso(alpha=0.05)\n",
    "reg.fit(X, y)\n",
    "print(reg.coef_)"
   ]
  },
  {
   "cell_type": "code",
   "execution_count": 6,
   "metadata": {},
   "outputs": [
    {
     "name": "stdout",
     "output_type": "stream",
     "text": [
      "[-0.35564393  0.32796106]\n",
      "[-0.35531744  0.32779035]\n",
      "[-0.35580739  0.32804648]\n"
     ]
    }
   ],
   "source": [
    "from sklearn.linear_model import Ridge\n",
    "reg = Ridge(alpha=0.1)\n",
    "reg.fit(X, y)\n",
    "print(reg.coef_)\n",
    "reg = Ridge(alpha=0.2)\n",
    "reg.fit(X, y)\n",
    "print(reg.coef_)\n",
    "reg = Ridge(alpha=0.05)\n",
    "reg.fit(X, y)\n",
    "print(reg.coef_)"
   ]
  },
  {
   "cell_type": "code",
   "execution_count": null,
   "metadata": {},
   "outputs": [],
   "source": []
  }
 ],
 "metadata": {
  "kernelspec": {
   "display_name": "Python 3",
   "language": "python",
   "name": "python3"
  },
  "language_info": {
   "codemirror_mode": {
    "name": "ipython",
    "version": 3
   },
   "file_extension": ".py",
   "mimetype": "text/x-python",
   "name": "python",
   "nbconvert_exporter": "python",
   "pygments_lexer": "ipython3",
   "version": "3.7.4"
  }
 },
 "nbformat": 4,
 "nbformat_minor": 2
}
